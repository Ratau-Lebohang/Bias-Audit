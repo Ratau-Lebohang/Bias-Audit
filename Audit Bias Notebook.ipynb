{
 "cells": [
  {
   "cell_type": "markdown",
   "id": "37623697-a8a4-4b21-8c45-2cc2cb3d2e21",
   "metadata": {},
   "source": [
    "# Bias & Fairness Audit-  Credit Card Approval\n",
    "The objective of this project is to conduct a fairness and bias audit on a credit card approval dataset. We will analyze whether sensitive attributes such as Gender, Ethnicity, and Citizenship influence approval outcomes unfairly, evaluate using multiple fairness metrics, apply bias mitigation strategies, and provide recommendations aligned with ethical AI principles."
   ]
  },
  {
   "cell_type": "markdown",
   "id": "abb1296f-9eaa-4b59-844a-61d6a890f338",
   "metadata": {},
   "source": [
    "# Setup & Libraries "
   ]
  },
  {
   "cell_type": "code",
   "execution_count": 9,
   "id": "777287f5-21a0-414d-829a-55f5d9a23e90",
   "metadata": {},
   "outputs": [],
   "source": [
    "import pandas as pd\n",
    "import numpy as np\n",
    "\n",
    "import matplotlib.pyplot as plt\n",
    "import seaborn as sns\n",
    "import plotly.express as px\n",
    "%matplotlib inline\n",
    "\n",
    "from sklearn import preprocessing\n",
    "from sklearn.model_selection import train_test_split\n",
    "from sklearn.linear_model import LogisticRegression\n",
    "from sklearn.metrics import accuracy_score, classification_report, confusion_matrix\n",
    "\n",
    "from sklearn.preprocessing import StandardScaler, OneHotEncoder\n",
    "from sklearn.compose import ColumnTransformer\n",
    "from sklearn.pipeline import Pipeline\n",
    "from sklearn.linear_model import LogisticRegression\n",
    "from sklearn.utils.class_weight import compute_sample_weight\n",
    "from imblearn.over_sampling import RandomOverSampler\n",
    "\n",
    "\n",
    "from fairlearn.metrics import (\n",
    "    MetricFrame, selection_rate, false_positive_rate,\n",
    "    false_negative_rate, true_positive_rate\n",
    ")\n",
    "from fairlearn.postprocessing import ThresholdOptimizer\n",
    "\n",
    "from IPython.display import display\n",
    "\n",
    "\n",
    "import warnings\n",
    "warnings.filterwarnings(\"ignore\") "
   ]
  },
  {
   "cell_type": "code",
   "execution_count": null,
   "id": "2cbf636c-e78e-4850-8706-6149f51c57a8",
   "metadata": {},
   "outputs": [],
   "source": []
  },
  {
   "cell_type": "markdown",
   "id": "0f526ac3-3731-427a-a002-4eeebcc3c09f",
   "metadata": {},
   "source": [
    "# Data Source\n",
    "- Dataset: Credit Card Approvals (Clean Data)\n",
    "- Source: Kaggle\n",
    "- Link: https://www.kaggle.com/datasets/samuelcortinhas/credit-card-approval-clean-data/data "
   ]
  },
  {
   "cell_type": "code",
   "execution_count": null,
   "id": "af7efd12-994a-4c07-a8df-46d1aa2844b8",
   "metadata": {},
   "outputs": [],
   "source": []
  },
  {
   "cell_type": "markdown",
   "id": "2d506995-92ce-4526-b293-4331cf78e940",
   "metadata": {
    "jp-MarkdownHeadingCollapsed": true
   },
   "source": [
    "# Loading Dataset\n",
    "Data Cleaning & Preprocessing "
   ]
  },
  {
   "cell_type": "code",
   "execution_count": 13,
   "id": "450d6f65-78c9-48f3-9bf0-921c18521e76",
   "metadata": {},
   "outputs": [],
   "source": [
    "df = pd.read_csv(\"credit_card_approvals_audit.csv\", sep=';')  "
   ]
  },
  {
   "cell_type": "code",
   "execution_count": 19,
   "id": "0ddd8480-b1a6-437b-8863-e55ede573c31",
   "metadata": {},
   "outputs": [
    {
     "name": "stdout",
     "output_type": "stream",
     "text": [
      "<class 'pandas.core.frame.DataFrame'>\n",
      "RangeIndex: 690 entries, 0 to 689\n",
      "Data columns (total 14 columns):\n",
      " #   Column         Non-Null Count  Dtype  \n",
      "---  ------         --------------  -----  \n",
      " 0   Gender         690 non-null    int64  \n",
      " 1   Age            690 non-null    float64\n",
      " 2   Debt           690 non-null    float64\n",
      " 3   Married        690 non-null    int64  \n",
      " 4   BankCustomer   690 non-null    int64  \n",
      " 5   Industry       690 non-null    object \n",
      " 6   Ethnicity      690 non-null    object \n",
      " 7   YearsEmployed  690 non-null    float64\n",
      " 8   PriorDefault   690 non-null    int64  \n",
      " 9   Employed       690 non-null    int64  \n",
      " 10  CreditScore    690 non-null    int64  \n",
      " 11  Citizen        690 non-null    object \n",
      " 12  Income         690 non-null    int64  \n",
      " 13  Approved       690 non-null    int64  \n",
      "dtypes: float64(3), int64(8), object(3)\n",
      "memory usage: 75.6+ KB\n"
     ]
    }
   ],
   "source": [
    "df.info() "
   ]
  },
  {
   "cell_type": "code",
   "execution_count": 21,
   "id": "af687482-57d8-4d63-a27c-8ff8a7e329a9",
   "metadata": {},
   "outputs": [
    {
     "data": {
      "text/html": [
       "<div>\n",
       "<style scoped>\n",
       "    .dataframe tbody tr th:only-of-type {\n",
       "        vertical-align: middle;\n",
       "    }\n",
       "\n",
       "    .dataframe tbody tr th {\n",
       "        vertical-align: top;\n",
       "    }\n",
       "\n",
       "    .dataframe thead th {\n",
       "        text-align: right;\n",
       "    }\n",
       "</style>\n",
       "<table border=\"1\" class=\"dataframe\">\n",
       "  <thead>\n",
       "    <tr style=\"text-align: right;\">\n",
       "      <th></th>\n",
       "      <th>Gender</th>\n",
       "      <th>Age</th>\n",
       "      <th>Debt</th>\n",
       "      <th>Married</th>\n",
       "      <th>BankCustomer</th>\n",
       "      <th>Industry</th>\n",
       "      <th>Ethnicity</th>\n",
       "      <th>YearsEmployed</th>\n",
       "      <th>PriorDefault</th>\n",
       "      <th>Employed</th>\n",
       "      <th>CreditScore</th>\n",
       "      <th>Citizen</th>\n",
       "      <th>Income</th>\n",
       "      <th>Approved</th>\n",
       "    </tr>\n",
       "  </thead>\n",
       "  <tbody>\n",
       "    <tr>\n",
       "      <th>0</th>\n",
       "      <td>1</td>\n",
       "      <td>30.83</td>\n",
       "      <td>0.000</td>\n",
       "      <td>1</td>\n",
       "      <td>1</td>\n",
       "      <td>Industrials</td>\n",
       "      <td>White</td>\n",
       "      <td>1.25</td>\n",
       "      <td>1</td>\n",
       "      <td>1</td>\n",
       "      <td>1</td>\n",
       "      <td>ByBirth</td>\n",
       "      <td>0</td>\n",
       "      <td>1</td>\n",
       "    </tr>\n",
       "    <tr>\n",
       "      <th>1</th>\n",
       "      <td>0</td>\n",
       "      <td>58.67</td>\n",
       "      <td>4.460</td>\n",
       "      <td>1</td>\n",
       "      <td>1</td>\n",
       "      <td>Materials</td>\n",
       "      <td>Black</td>\n",
       "      <td>3.04</td>\n",
       "      <td>1</td>\n",
       "      <td>1</td>\n",
       "      <td>6</td>\n",
       "      <td>ByBirth</td>\n",
       "      <td>560</td>\n",
       "      <td>1</td>\n",
       "    </tr>\n",
       "    <tr>\n",
       "      <th>2</th>\n",
       "      <td>0</td>\n",
       "      <td>24.50</td>\n",
       "      <td>0.500</td>\n",
       "      <td>1</td>\n",
       "      <td>1</td>\n",
       "      <td>Materials</td>\n",
       "      <td>Black</td>\n",
       "      <td>1.50</td>\n",
       "      <td>1</td>\n",
       "      <td>0</td>\n",
       "      <td>0</td>\n",
       "      <td>ByBirth</td>\n",
       "      <td>824</td>\n",
       "      <td>1</td>\n",
       "    </tr>\n",
       "    <tr>\n",
       "      <th>3</th>\n",
       "      <td>1</td>\n",
       "      <td>27.83</td>\n",
       "      <td>1.540</td>\n",
       "      <td>1</td>\n",
       "      <td>1</td>\n",
       "      <td>Industrials</td>\n",
       "      <td>White</td>\n",
       "      <td>3.75</td>\n",
       "      <td>1</td>\n",
       "      <td>1</td>\n",
       "      <td>5</td>\n",
       "      <td>ByBirth</td>\n",
       "      <td>3</td>\n",
       "      <td>1</td>\n",
       "    </tr>\n",
       "    <tr>\n",
       "      <th>4</th>\n",
       "      <td>1</td>\n",
       "      <td>20.17</td>\n",
       "      <td>5.625</td>\n",
       "      <td>1</td>\n",
       "      <td>1</td>\n",
       "      <td>Industrials</td>\n",
       "      <td>White</td>\n",
       "      <td>1.71</td>\n",
       "      <td>1</td>\n",
       "      <td>0</td>\n",
       "      <td>0</td>\n",
       "      <td>ByOtherMeans</td>\n",
       "      <td>0</td>\n",
       "      <td>1</td>\n",
       "    </tr>\n",
       "    <tr>\n",
       "      <th>...</th>\n",
       "      <td>...</td>\n",
       "      <td>...</td>\n",
       "      <td>...</td>\n",
       "      <td>...</td>\n",
       "      <td>...</td>\n",
       "      <td>...</td>\n",
       "      <td>...</td>\n",
       "      <td>...</td>\n",
       "      <td>...</td>\n",
       "      <td>...</td>\n",
       "      <td>...</td>\n",
       "      <td>...</td>\n",
       "      <td>...</td>\n",
       "      <td>...</td>\n",
       "    </tr>\n",
       "    <tr>\n",
       "      <th>685</th>\n",
       "      <td>1</td>\n",
       "      <td>21.08</td>\n",
       "      <td>10.085</td>\n",
       "      <td>0</td>\n",
       "      <td>0</td>\n",
       "      <td>Education</td>\n",
       "      <td>Black</td>\n",
       "      <td>1.25</td>\n",
       "      <td>0</td>\n",
       "      <td>0</td>\n",
       "      <td>0</td>\n",
       "      <td>ByBirth</td>\n",
       "      <td>0</td>\n",
       "      <td>0</td>\n",
       "    </tr>\n",
       "    <tr>\n",
       "      <th>686</th>\n",
       "      <td>0</td>\n",
       "      <td>22.67</td>\n",
       "      <td>0.750</td>\n",
       "      <td>1</td>\n",
       "      <td>1</td>\n",
       "      <td>Energy</td>\n",
       "      <td>White</td>\n",
       "      <td>2.00</td>\n",
       "      <td>0</td>\n",
       "      <td>1</td>\n",
       "      <td>2</td>\n",
       "      <td>ByBirth</td>\n",
       "      <td>394</td>\n",
       "      <td>0</td>\n",
       "    </tr>\n",
       "    <tr>\n",
       "      <th>687</th>\n",
       "      <td>0</td>\n",
       "      <td>25.25</td>\n",
       "      <td>13.500</td>\n",
       "      <td>0</td>\n",
       "      <td>0</td>\n",
       "      <td>Healthcare</td>\n",
       "      <td>Latino</td>\n",
       "      <td>2.00</td>\n",
       "      <td>0</td>\n",
       "      <td>1</td>\n",
       "      <td>1</td>\n",
       "      <td>ByBirth</td>\n",
       "      <td>1</td>\n",
       "      <td>0</td>\n",
       "    </tr>\n",
       "    <tr>\n",
       "      <th>688</th>\n",
       "      <td>1</td>\n",
       "      <td>17.92</td>\n",
       "      <td>0.205</td>\n",
       "      <td>1</td>\n",
       "      <td>1</td>\n",
       "      <td>ConsumerStaples</td>\n",
       "      <td>White</td>\n",
       "      <td>0.04</td>\n",
       "      <td>0</td>\n",
       "      <td>0</td>\n",
       "      <td>0</td>\n",
       "      <td>ByBirth</td>\n",
       "      <td>750</td>\n",
       "      <td>0</td>\n",
       "    </tr>\n",
       "    <tr>\n",
       "      <th>689</th>\n",
       "      <td>1</td>\n",
       "      <td>35.00</td>\n",
       "      <td>3.375</td>\n",
       "      <td>1</td>\n",
       "      <td>1</td>\n",
       "      <td>Energy</td>\n",
       "      <td>Black</td>\n",
       "      <td>8.29</td>\n",
       "      <td>0</td>\n",
       "      <td>0</td>\n",
       "      <td>0</td>\n",
       "      <td>ByBirth</td>\n",
       "      <td>0</td>\n",
       "      <td>0</td>\n",
       "    </tr>\n",
       "  </tbody>\n",
       "</table>\n",
       "<p>690 rows × 14 columns</p>\n",
       "</div>"
      ],
      "text/plain": [
       "     Gender    Age    Debt  Married  BankCustomer         Industry Ethnicity  \\\n",
       "0         1  30.83   0.000        1             1      Industrials     White   \n",
       "1         0  58.67   4.460        1             1        Materials     Black   \n",
       "2         0  24.50   0.500        1             1        Materials     Black   \n",
       "3         1  27.83   1.540        1             1      Industrials     White   \n",
       "4         1  20.17   5.625        1             1      Industrials     White   \n",
       "..      ...    ...     ...      ...           ...              ...       ...   \n",
       "685       1  21.08  10.085        0             0        Education     Black   \n",
       "686       0  22.67   0.750        1             1           Energy     White   \n",
       "687       0  25.25  13.500        0             0       Healthcare    Latino   \n",
       "688       1  17.92   0.205        1             1  ConsumerStaples     White   \n",
       "689       1  35.00   3.375        1             1           Energy     Black   \n",
       "\n",
       "     YearsEmployed  PriorDefault  Employed  CreditScore       Citizen  Income  \\\n",
       "0             1.25             1         1            1       ByBirth       0   \n",
       "1             3.04             1         1            6       ByBirth     560   \n",
       "2             1.50             1         0            0       ByBirth     824   \n",
       "3             3.75             1         1            5       ByBirth       3   \n",
       "4             1.71             1         0            0  ByOtherMeans       0   \n",
       "..             ...           ...       ...          ...           ...     ...   \n",
       "685           1.25             0         0            0       ByBirth       0   \n",
       "686           2.00             0         1            2       ByBirth     394   \n",
       "687           2.00             0         1            1       ByBirth       1   \n",
       "688           0.04             0         0            0       ByBirth     750   \n",
       "689           8.29             0         0            0       ByBirth       0   \n",
       "\n",
       "     Approved  \n",
       "0           1  \n",
       "1           1  \n",
       "2           1  \n",
       "3           1  \n",
       "4           1  \n",
       "..        ...  \n",
       "685         0  \n",
       "686         0  \n",
       "687         0  \n",
       "688         0  \n",
       "689         0  \n",
       "\n",
       "[690 rows x 14 columns]"
      ]
     },
     "execution_count": 21,
     "metadata": {},
     "output_type": "execute_result"
    }
   ],
   "source": [
    "df "
   ]
  },
  {
   "cell_type": "code",
   "execution_count": 17,
   "id": "9bb129bf-8381-4a9b-9277-644e0f9d1b40",
   "metadata": {},
   "outputs": [],
   "source": [
    "# Drop unnecessary columns\n",
    "df = df.drop(columns=['ZipCode', 'DriversLicense']) "
   ]
  },
  {
   "cell_type": "code",
   "execution_count": 25,
   "id": "417bc646-4d5a-4d76-9d7e-19018ff581db",
   "metadata": {},
   "outputs": [],
   "source": [
    "# Convert to integers (drop decimals) \n",
    "df['Age'] = df['Age'].astype(int)  \n",
    "    \n",
    "# Convert 'Approved' to integer type\n",
    "df['Approved'] = df['Approved'].astype(int)\n",
    "    \n",
    "# Convert 'Income' and 'CreditScore' to numeric\n",
    "df['Income'] = pd.to_numeric(df['Income'])\n",
    "df['CreditScore'] = pd.to_numeric(df['CreditScore'])  "
   ]
  },
  {
   "cell_type": "code",
   "execution_count": 27,
   "id": "81689abb-de6f-4702-a475-0579b97e4610",
   "metadata": {},
   "outputs": [],
   "source": [
    "# Map numeric codes to meaningful labels for clarity\n",
    "# Gender: 1 = Male, 0 = Female\n",
    "df['Gender_label'] = df['Gender'].map({1: 'Male', 0: 'Female'})\n",
    "\n",
    "# Employed: 1 = Yes, 0 = No\n",
    "df['Employed_label'] = df['Employed'].map({1: 'Yes', 0: 'No'})\n",
    "\n",
    "# Approved: 1 = Yes, 0 = No\n",
    "df['Approved_label'] = df['Approved'].map({1: 'Yes', 0: 'No'}) "
   ]
  },
  {
   "cell_type": "code",
   "execution_count": 29,
   "id": "42d93168-3d72-428e-bb9b-5945ea6a5d3f",
   "metadata": {},
   "outputs": [
    {
     "data": {
      "text/html": [
       "<div>\n",
       "<style scoped>\n",
       "    .dataframe tbody tr th:only-of-type {\n",
       "        vertical-align: middle;\n",
       "    }\n",
       "\n",
       "    .dataframe tbody tr th {\n",
       "        vertical-align: top;\n",
       "    }\n",
       "\n",
       "    .dataframe thead th {\n",
       "        text-align: right;\n",
       "    }\n",
       "</style>\n",
       "<table border=\"1\" class=\"dataframe\">\n",
       "  <thead>\n",
       "    <tr style=\"text-align: right;\">\n",
       "      <th></th>\n",
       "      <th>Gender</th>\n",
       "      <th>Gender_label</th>\n",
       "      <th>Employed</th>\n",
       "      <th>Employed_label</th>\n",
       "      <th>Approved</th>\n",
       "      <th>Approved_label</th>\n",
       "    </tr>\n",
       "  </thead>\n",
       "  <tbody>\n",
       "    <tr>\n",
       "      <th>0</th>\n",
       "      <td>1</td>\n",
       "      <td>Male</td>\n",
       "      <td>1</td>\n",
       "      <td>Yes</td>\n",
       "      <td>1</td>\n",
       "      <td>Yes</td>\n",
       "    </tr>\n",
       "    <tr>\n",
       "      <th>1</th>\n",
       "      <td>0</td>\n",
       "      <td>Female</td>\n",
       "      <td>1</td>\n",
       "      <td>Yes</td>\n",
       "      <td>1</td>\n",
       "      <td>Yes</td>\n",
       "    </tr>\n",
       "    <tr>\n",
       "      <th>2</th>\n",
       "      <td>0</td>\n",
       "      <td>Female</td>\n",
       "      <td>0</td>\n",
       "      <td>No</td>\n",
       "      <td>1</td>\n",
       "      <td>Yes</td>\n",
       "    </tr>\n",
       "    <tr>\n",
       "      <th>3</th>\n",
       "      <td>1</td>\n",
       "      <td>Male</td>\n",
       "      <td>1</td>\n",
       "      <td>Yes</td>\n",
       "      <td>1</td>\n",
       "      <td>Yes</td>\n",
       "    </tr>\n",
       "    <tr>\n",
       "      <th>4</th>\n",
       "      <td>1</td>\n",
       "      <td>Male</td>\n",
       "      <td>0</td>\n",
       "      <td>No</td>\n",
       "      <td>1</td>\n",
       "      <td>Yes</td>\n",
       "    </tr>\n",
       "  </tbody>\n",
       "</table>\n",
       "</div>"
      ],
      "text/plain": [
       "   Gender Gender_label  Employed Employed_label  Approved Approved_label\n",
       "0       1         Male         1            Yes         1            Yes\n",
       "1       0       Female         1            Yes         1            Yes\n",
       "2       0       Female         0             No         1            Yes\n",
       "3       1         Male         1            Yes         1            Yes\n",
       "4       1         Male         0             No         1            Yes"
      ]
     },
     "execution_count": 29,
     "metadata": {},
     "output_type": "execute_result"
    }
   ],
   "source": [
    "# Quick check\n",
    "df[['Gender','Gender_label','Employed','Employed_label','Approved','Approved_label']].head() "
   ]
  },
  {
   "cell_type": "code",
   "execution_count": null,
   "id": "45e578b4-a8ef-43c9-9439-e97e2068d66c",
   "metadata": {},
   "outputs": [],
   "source": []
  },
  {
   "cell_type": "code",
   "execution_count": 31,
   "id": "01cda063-e51b-4d39-9572-ccce8de19f6b",
   "metadata": {},
   "outputs": [
    {
     "name": "stdout",
     "output_type": "stream",
     "text": [
      "\n",
      "Cleaned dataset preview:\n"
     ]
    },
    {
     "data": {
      "text/html": [
       "<div>\n",
       "<style scoped>\n",
       "    .dataframe tbody tr th:only-of-type {\n",
       "        vertical-align: middle;\n",
       "    }\n",
       "\n",
       "    .dataframe tbody tr th {\n",
       "        vertical-align: top;\n",
       "    }\n",
       "\n",
       "    .dataframe thead th {\n",
       "        text-align: right;\n",
       "    }\n",
       "</style>\n",
       "<table border=\"1\" class=\"dataframe\">\n",
       "  <thead>\n",
       "    <tr style=\"text-align: right;\">\n",
       "      <th></th>\n",
       "      <th>Gender</th>\n",
       "      <th>Age</th>\n",
       "      <th>Debt</th>\n",
       "      <th>Married</th>\n",
       "      <th>BankCustomer</th>\n",
       "      <th>Industry</th>\n",
       "      <th>Ethnicity</th>\n",
       "      <th>YearsEmployed</th>\n",
       "      <th>PriorDefault</th>\n",
       "      <th>Employed</th>\n",
       "      <th>CreditScore</th>\n",
       "      <th>Citizen</th>\n",
       "      <th>Income</th>\n",
       "      <th>Approved</th>\n",
       "      <th>Gender_label</th>\n",
       "      <th>Employed_label</th>\n",
       "      <th>Approved_label</th>\n",
       "    </tr>\n",
       "  </thead>\n",
       "  <tbody>\n",
       "    <tr>\n",
       "      <th>0</th>\n",
       "      <td>1</td>\n",
       "      <td>30</td>\n",
       "      <td>0.000</td>\n",
       "      <td>1</td>\n",
       "      <td>1</td>\n",
       "      <td>Industrials</td>\n",
       "      <td>White</td>\n",
       "      <td>1.25</td>\n",
       "      <td>1</td>\n",
       "      <td>1</td>\n",
       "      <td>1</td>\n",
       "      <td>ByBirth</td>\n",
       "      <td>0</td>\n",
       "      <td>1</td>\n",
       "      <td>Male</td>\n",
       "      <td>Yes</td>\n",
       "      <td>Yes</td>\n",
       "    </tr>\n",
       "    <tr>\n",
       "      <th>1</th>\n",
       "      <td>0</td>\n",
       "      <td>58</td>\n",
       "      <td>4.460</td>\n",
       "      <td>1</td>\n",
       "      <td>1</td>\n",
       "      <td>Materials</td>\n",
       "      <td>Black</td>\n",
       "      <td>3.04</td>\n",
       "      <td>1</td>\n",
       "      <td>1</td>\n",
       "      <td>6</td>\n",
       "      <td>ByBirth</td>\n",
       "      <td>560</td>\n",
       "      <td>1</td>\n",
       "      <td>Female</td>\n",
       "      <td>Yes</td>\n",
       "      <td>Yes</td>\n",
       "    </tr>\n",
       "    <tr>\n",
       "      <th>2</th>\n",
       "      <td>0</td>\n",
       "      <td>24</td>\n",
       "      <td>0.500</td>\n",
       "      <td>1</td>\n",
       "      <td>1</td>\n",
       "      <td>Materials</td>\n",
       "      <td>Black</td>\n",
       "      <td>1.50</td>\n",
       "      <td>1</td>\n",
       "      <td>0</td>\n",
       "      <td>0</td>\n",
       "      <td>ByBirth</td>\n",
       "      <td>824</td>\n",
       "      <td>1</td>\n",
       "      <td>Female</td>\n",
       "      <td>No</td>\n",
       "      <td>Yes</td>\n",
       "    </tr>\n",
       "    <tr>\n",
       "      <th>3</th>\n",
       "      <td>1</td>\n",
       "      <td>27</td>\n",
       "      <td>1.540</td>\n",
       "      <td>1</td>\n",
       "      <td>1</td>\n",
       "      <td>Industrials</td>\n",
       "      <td>White</td>\n",
       "      <td>3.75</td>\n",
       "      <td>1</td>\n",
       "      <td>1</td>\n",
       "      <td>5</td>\n",
       "      <td>ByBirth</td>\n",
       "      <td>3</td>\n",
       "      <td>1</td>\n",
       "      <td>Male</td>\n",
       "      <td>Yes</td>\n",
       "      <td>Yes</td>\n",
       "    </tr>\n",
       "    <tr>\n",
       "      <th>4</th>\n",
       "      <td>1</td>\n",
       "      <td>20</td>\n",
       "      <td>5.625</td>\n",
       "      <td>1</td>\n",
       "      <td>1</td>\n",
       "      <td>Industrials</td>\n",
       "      <td>White</td>\n",
       "      <td>1.71</td>\n",
       "      <td>1</td>\n",
       "      <td>0</td>\n",
       "      <td>0</td>\n",
       "      <td>ByOtherMeans</td>\n",
       "      <td>0</td>\n",
       "      <td>1</td>\n",
       "      <td>Male</td>\n",
       "      <td>No</td>\n",
       "      <td>Yes</td>\n",
       "    </tr>\n",
       "  </tbody>\n",
       "</table>\n",
       "</div>"
      ],
      "text/plain": [
       "   Gender  Age   Debt  Married  BankCustomer     Industry Ethnicity  \\\n",
       "0       1   30  0.000        1             1  Industrials     White   \n",
       "1       0   58  4.460        1             1    Materials     Black   \n",
       "2       0   24  0.500        1             1    Materials     Black   \n",
       "3       1   27  1.540        1             1  Industrials     White   \n",
       "4       1   20  5.625        1             1  Industrials     White   \n",
       "\n",
       "   YearsEmployed  PriorDefault  Employed  CreditScore       Citizen  Income  \\\n",
       "0           1.25             1         1            1       ByBirth       0   \n",
       "1           3.04             1         1            6       ByBirth     560   \n",
       "2           1.50             1         0            0       ByBirth     824   \n",
       "3           3.75             1         1            5       ByBirth       3   \n",
       "4           1.71             1         0            0  ByOtherMeans       0   \n",
       "\n",
       "   Approved Gender_label Employed_label Approved_label  \n",
       "0         1         Male            Yes            Yes  \n",
       "1         1       Female            Yes            Yes  \n",
       "2         1       Female             No            Yes  \n",
       "3         1         Male            Yes            Yes  \n",
       "4         1         Male             No            Yes  "
      ]
     },
     "metadata": {},
     "output_type": "display_data"
    },
    {
     "name": "stdout",
     "output_type": "stream",
     "text": [
      "✅ Cleaned dataset saved as 'credit_card_approvals_cleaned2.csv'\n"
     ]
    }
   ],
   "source": [
    "# Final Cleaned Dataset Preview\n",
    "\n",
    "print(\"\\nCleaned dataset preview:\")\n",
    "display(df.head())\n",
    "\n",
    "# Save the cleaned dataset for future use\n",
    "df.to_csv(\"credit_card_approvals_cleaned2.csv\", index=False)\n",
    "print(\"✅ Cleaned dataset saved as 'credit_card_approvals_cleaned2.csv'\")  "
   ]
  },
  {
   "cell_type": "code",
   "execution_count": null,
   "id": "d2197553-4547-4697-a562-53289b300125",
   "metadata": {},
   "outputs": [],
   "source": []
  },
  {
   "cell_type": "code",
   "execution_count": null,
   "id": "ea55b88c-5c57-433a-a5f4-e1f5f3ffe1db",
   "metadata": {},
   "outputs": [],
   "source": []
  },
  {
   "cell_type": "markdown",
   "id": "83476daa-d96b-40c5-b823-85feb345c1fa",
   "metadata": {},
   "source": [
    "# Features and Target"
   ]
  },
  {
   "cell_type": "code",
   "execution_count": 34,
   "id": "6b59bc98-7de3-4349-b0f2-3c6d3ad5dad7",
   "metadata": {},
   "outputs": [],
   "source": [
    "# Target variable\n",
    "target = 'Approved'\n",
    "\n",
    "# Features (exclude sensitive attributes and target)\n",
    "sensitive_features = ['Gender_label', 'Ethnicity', 'Citizen']\n",
    "feature_columns = [col for col in df.columns if col not in sensitive_features + [target, 'Approved_label']]\n",
    "\n",
    "X = df[feature_columns]\n",
    "y = df[target] \n"
   ]
  },
  {
   "cell_type": "code",
   "execution_count": null,
   "id": "1632f172-922c-4ad5-94dd-647a4aad3443",
   "metadata": {},
   "outputs": [],
   "source": [
    "#  Train/Test Split"
   ]
  },
  {
   "cell_type": "code",
   "execution_count": 36,
   "id": "b1eccaa6-3f3b-4767-b4ad-2094b5ad20be",
   "metadata": {},
   "outputs": [],
   "source": [
    "from sklearn.model_selection import train_test_split\n",
    "\n",
    "X_train, X_test, y_train, y_test = train_test_split(\n",
    "    X, y, test_size=0.3, stratify=y, random_state=42\n",
    ") "
   ]
  },
  {
   "cell_type": "code",
   "execution_count": 38,
   "id": "8b12f1c9-132d-4770-bdf6-ee76f17f222b",
   "metadata": {},
   "outputs": [],
   "source": [
    "sensitive = df.loc[X_test.index, 'Gender_label']  # Now this works "
   ]
  },
  {
   "cell_type": "code",
   "execution_count": null,
   "id": "d2c4ffa5-d0d0-4672-98d9-7190c89af3fb",
   "metadata": {},
   "outputs": [],
   "source": [
    "# Train baseline model \n",
    "Preprocessing Pipeline"
   ]
  },
  {
   "cell_type": "code",
   "execution_count": 40,
   "id": "26da8fa9-cc6b-4f2c-9886-ef16e6bac5e8",
   "metadata": {},
   "outputs": [],
   "source": [
    "# Identify numeric and categorical features\n",
    "numeric_features = X.select_dtypes(include=['int64', 'float64']).columns.tolist()\n",
    "categorical_features = X.select_dtypes(include=['object']).columns.tolist()\n",
    "\n",
    "# Preprocessing pipelines\n",
    "numeric_transformer = Pipeline([('scaler', StandardScaler())])\n",
    "\n",
    "# Fix for OneHotEncoder: use sparse_output=False instead of sparse=False\n",
    "categorical_transformer = Pipeline([\n",
    "    ('onehot', OneHotEncoder(drop='first', sparse_output=False, handle_unknown='ignore'))\n",
    "])\n",
    "\n",
    "preprocessor = ColumnTransformer([\n",
    "    ('num', numeric_transformer, numeric_features),\n",
    "    ('cat', categorical_transformer, categorical_features)\n",
    "])\n",
    "\n",
    "# Train baseline pipeline\n",
    "baseline_pipe = Pipeline([\n",
    "    ('preprocessor', preprocessor),\n",
    "    ('classifier', LogisticRegression(max_iter=1000))\n",
    "])\n",
    "\n",
    "# Fit model\n",
    "baseline_pipe.fit(X_train, y_train)\n",
    "\n",
    "# Make predictions\n",
    "y_pred = baseline_pipe.predict(X_test) "
   ]
  },
  {
   "cell_type": "code",
   "execution_count": 42,
   "id": "33a30101-b510-4830-983c-6a966a1b075d",
   "metadata": {},
   "outputs": [
    {
     "name": "stdout",
     "output_type": "stream",
     "text": [
      "Overall Accuracy: 0.8599\n",
      "Confusion Matrix:\n",
      "[[102  13]\n",
      " [ 16  76]]\n"
     ]
    }
   ],
   "source": [
    "# Evaluate Baseline Model\n",
    "\n",
    "print(f\"Overall Accuracy: {accuracy_score(y_test, y_pred):.4f}\")\n",
    "print(\"Confusion Matrix:\")\n",
    "print(confusion_matrix(y_test, y_pred)) "
   ]
  },
  {
   "cell_type": "code",
   "execution_count": null,
   "id": "953120d0-69ba-4a67-a453-19c8a91612be",
   "metadata": {},
   "outputs": [],
   "source": []
  },
  {
   "cell_type": "markdown",
   "id": "35fa6e36-30eb-411b-bff9-f9f209824904",
   "metadata": {},
   "source": [
    "# Fairness Metrics"
   ]
  },
  {
   "cell_type": "code",
   "execution_count": 45,
   "id": "36c21593-55d5-47a7-b64e-931a693ac825",
   "metadata": {},
   "outputs": [
    {
     "name": "stdout",
     "output_type": "stream",
     "text": [
      "\n",
      "Fairness Metrics by Gender:\n"
     ]
    },
    {
     "data": {
      "text/html": [
       "<div>\n",
       "<style scoped>\n",
       "    .dataframe tbody tr th:only-of-type {\n",
       "        vertical-align: middle;\n",
       "    }\n",
       "\n",
       "    .dataframe tbody tr th {\n",
       "        vertical-align: top;\n",
       "    }\n",
       "\n",
       "    .dataframe thead th {\n",
       "        text-align: right;\n",
       "    }\n",
       "</style>\n",
       "<table border=\"1\" class=\"dataframe\">\n",
       "  <thead>\n",
       "    <tr style=\"text-align: right;\">\n",
       "      <th></th>\n",
       "      <th>Accuracy</th>\n",
       "      <th>Selection Rate</th>\n",
       "      <th>True Positive Rate</th>\n",
       "    </tr>\n",
       "    <tr>\n",
       "      <th>Gender_label</th>\n",
       "      <th></th>\n",
       "      <th></th>\n",
       "      <th></th>\n",
       "    </tr>\n",
       "  </thead>\n",
       "  <tbody>\n",
       "    <tr>\n",
       "      <th>Female</th>\n",
       "      <td>0.852459</td>\n",
       "      <td>0.459016</td>\n",
       "      <td>0.806452</td>\n",
       "    </tr>\n",
       "    <tr>\n",
       "      <th>Male</th>\n",
       "      <td>0.863014</td>\n",
       "      <td>0.417808</td>\n",
       "      <td>0.836066</td>\n",
       "    </tr>\n",
       "  </tbody>\n",
       "</table>\n",
       "</div>"
      ],
      "text/plain": [
       "              Accuracy  Selection Rate  True Positive Rate\n",
       "Gender_label                                              \n",
       "Female        0.852459        0.459016            0.806452\n",
       "Male          0.863014        0.417808            0.836066"
      ]
     },
     "metadata": {},
     "output_type": "display_data"
    },
    {
     "name": "stdout",
     "output_type": "stream",
     "text": [
      "\n",
      "Disparate Impact (Female / Male): 1.10\n"
     ]
    }
   ],
   "source": [
    "# Fairness Metrics by Gender:\n",
    "\n",
    "metrics = {\n",
    "    'Accuracy': lambda y_true, y_pred: accuracy_score(y_true, y_pred),\n",
    "    'Selection Rate': selection_rate,         # Demographic Parity\n",
    "    'True Positive Rate': true_positive_rate  # Equal Opportunity\n",
    "}\n",
    "\n",
    "mf = MetricFrame(metrics=metrics, y_true=y_test, y_pred=y_pred, sensitive_features=sensitive)\n",
    "print(\"\\nFairness Metrics by Gender:\")\n",
    "display(mf.by_group)\n",
    "\n",
    "# Disparate Impact (Female/Male)\n",
    "dp_rates = mf.by_group['Selection Rate']\n",
    "disparate_impact = dp_rates['Female'] / dp_rates['Male']\n",
    "print(f\"\\nDisparate Impact (Female / Male): {disparate_impact:.2f}\") "
   ]
  },
  {
   "cell_type": "code",
   "execution_count": null,
   "id": "ad024d26-a239-4835-94df-f14d74080fd6",
   "metadata": {},
   "outputs": [],
   "source": []
  },
  {
   "cell_type": "code",
   "execution_count": 47,
   "id": "a3bdcb7e-3ed9-4b04-a4db-0293b200c4a4",
   "metadata": {},
   "outputs": [
    {
     "name": "stdout",
     "output_type": "stream",
     "text": [
      "\n",
      "Fairness Metrics by Ethnicity:\n"
     ]
    },
    {
     "data": {
      "text/html": [
       "<div>\n",
       "<style scoped>\n",
       "    .dataframe tbody tr th:only-of-type {\n",
       "        vertical-align: middle;\n",
       "    }\n",
       "\n",
       "    .dataframe tbody tr th {\n",
       "        vertical-align: top;\n",
       "    }\n",
       "\n",
       "    .dataframe thead th {\n",
       "        text-align: right;\n",
       "    }\n",
       "</style>\n",
       "<table border=\"1\" class=\"dataframe\">\n",
       "  <thead>\n",
       "    <tr style=\"text-align: right;\">\n",
       "      <th></th>\n",
       "      <th>Accuracy</th>\n",
       "      <th>Selection Rate</th>\n",
       "      <th>True Positive Rate</th>\n",
       "    </tr>\n",
       "    <tr>\n",
       "      <th>Ethnicity</th>\n",
       "      <th></th>\n",
       "      <th></th>\n",
       "      <th></th>\n",
       "    </tr>\n",
       "  </thead>\n",
       "  <tbody>\n",
       "    <tr>\n",
       "      <th>Asian</th>\n",
       "      <td>0.789474</td>\n",
       "      <td>0.421053</td>\n",
       "      <td>0.833333</td>\n",
       "    </tr>\n",
       "    <tr>\n",
       "      <th>Black</th>\n",
       "      <td>0.862745</td>\n",
       "      <td>0.607843</td>\n",
       "      <td>0.852941</td>\n",
       "    </tr>\n",
       "    <tr>\n",
       "      <th>Latino</th>\n",
       "      <td>0.909091</td>\n",
       "      <td>0.000000</td>\n",
       "      <td>0.000000</td>\n",
       "    </tr>\n",
       "    <tr>\n",
       "      <th>Other</th>\n",
       "      <td>0.666667</td>\n",
       "      <td>0.166667</td>\n",
       "      <td>0.333333</td>\n",
       "    </tr>\n",
       "    <tr>\n",
       "      <th>White</th>\n",
       "      <td>0.875000</td>\n",
       "      <td>0.408333</td>\n",
       "      <td>0.854167</td>\n",
       "    </tr>\n",
       "  </tbody>\n",
       "</table>\n",
       "</div>"
      ],
      "text/plain": [
       "           Accuracy  Selection Rate  True Positive Rate\n",
       "Ethnicity                                              \n",
       "Asian      0.789474        0.421053            0.833333\n",
       "Black      0.862745        0.607843            0.852941\n",
       "Latino     0.909091        0.000000            0.000000\n",
       "Other      0.666667        0.166667            0.333333\n",
       "White      0.875000        0.408333            0.854167"
      ]
     },
     "metadata": {},
     "output_type": "display_data"
    },
    {
     "name": "stdout",
     "output_type": "stream",
     "text": [
      "\n",
      "Disparate Impact (Black / White): 1.49\n"
     ]
    }
   ],
   "source": [
    "sensitive_ethnicity = df.loc[X_test.index, 'Ethnicity']\n",
    "\n",
    "metrics = {\n",
    "    'Accuracy': lambda y_true, y_pred: accuracy_score(y_true, y_pred),\n",
    "    'Selection Rate': selection_rate,         # Demographic Parity\n",
    "    'True Positive Rate': true_positive_rate  # Equal Opportunity\n",
    "}\n",
    "\n",
    "mf_ethnicity = MetricFrame(metrics=metrics, y_true=y_test, y_pred=y_pred, sensitive_features=sensitive_ethnicity)\n",
    "\n",
    "print(\"\\nFairness Metrics by Ethnicity:\")\n",
    "display(mf_ethnicity.by_group)\n",
    "\n",
    "# Disparate Impact (example: Black / White)\n",
    "dp_rates_eth = mf_ethnicity.by_group['Selection Rate']\n",
    "disparate_impact_eth = dp_rates_eth['Black'] / dp_rates_eth['White']\n",
    "print(f\"\\nDisparate Impact (Black / White): {disparate_impact_eth:.2f}\")"
   ]
  },
  {
   "cell_type": "code",
   "execution_count": null,
   "id": "f3b1716c-f3f4-4324-90b6-3ee4e752b837",
   "metadata": {},
   "outputs": [],
   "source": []
  },
  {
   "cell_type": "code",
   "execution_count": 49,
   "id": "2e66f3eb-4aaa-4de5-b935-6b0d4796ff29",
   "metadata": {},
   "outputs": [
    {
     "name": "stdout",
     "output_type": "stream",
     "text": [
      "\n",
      "Fairness Metrics by Age Group:\n"
     ]
    },
    {
     "data": {
      "text/html": [
       "<div>\n",
       "<style scoped>\n",
       "    .dataframe tbody tr th:only-of-type {\n",
       "        vertical-align: middle;\n",
       "    }\n",
       "\n",
       "    .dataframe tbody tr th {\n",
       "        vertical-align: top;\n",
       "    }\n",
       "\n",
       "    .dataframe thead th {\n",
       "        text-align: right;\n",
       "    }\n",
       "</style>\n",
       "<table border=\"1\" class=\"dataframe\">\n",
       "  <thead>\n",
       "    <tr style=\"text-align: right;\">\n",
       "      <th></th>\n",
       "      <th>Accuracy</th>\n",
       "      <th>Selection Rate</th>\n",
       "      <th>True Positive Rate</th>\n",
       "    </tr>\n",
       "    <tr>\n",
       "      <th>Age_group</th>\n",
       "      <th></th>\n",
       "      <th></th>\n",
       "      <th></th>\n",
       "    </tr>\n",
       "  </thead>\n",
       "  <tbody>\n",
       "    <tr>\n",
       "      <th>30-50</th>\n",
       "      <td>0.868421</td>\n",
       "      <td>0.539474</td>\n",
       "      <td>0.878049</td>\n",
       "    </tr>\n",
       "    <tr>\n",
       "      <th>50+</th>\n",
       "      <td>0.941176</td>\n",
       "      <td>0.529412</td>\n",
       "      <td>0.900000</td>\n",
       "    </tr>\n",
       "    <tr>\n",
       "      <th>&lt;30</th>\n",
       "      <td>0.842105</td>\n",
       "      <td>0.342105</td>\n",
       "      <td>0.756098</td>\n",
       "    </tr>\n",
       "  </tbody>\n",
       "</table>\n",
       "</div>"
      ],
      "text/plain": [
       "           Accuracy  Selection Rate  True Positive Rate\n",
       "Age_group                                              \n",
       "30-50      0.868421        0.539474            0.878049\n",
       "50+        0.941176        0.529412            0.900000\n",
       "<30        0.842105        0.342105            0.756098"
      ]
     },
     "metadata": {},
     "output_type": "display_data"
    },
    {
     "name": "stdout",
     "output_type": "stream",
     "text": [
      "\n",
      "Disparate Impact (<30 / 30-50): 0.63\n"
     ]
    }
   ],
   "source": [
    "# Bin age into groups\n",
    "age_bins = [0, 30, 50, 100]  # <30, 30-50, 50+\n",
    "age_labels = ['<30', '30-50', '50+']\n",
    "df['Age_group'] = pd.cut(df['Age'], bins=age_bins, labels=age_labels, right=False)\n",
    "\n",
    "sensitive_age = df.loc[X_test.index, 'Age_group']\n",
    "\n",
    "mf_age = MetricFrame(metrics=metrics, y_true=y_test, y_pred=y_pred, sensitive_features=sensitive_age)\n",
    "\n",
    "print(\"\\nFairness Metrics by Age Group:\")\n",
    "display(mf_age.by_group)\n",
    "\n",
    "# Disparate Impact (example: <30 / 30-50)\n",
    "dp_rates_age = mf_age.by_group['Selection Rate']\n",
    "disparate_impact_age = dp_rates_age['<30'] / dp_rates_age['30-50']\n",
    "print(f\"\\nDisparate Impact (<30 / 30-50): {disparate_impact_age:.2f}\")"
   ]
  },
  {
   "cell_type": "markdown",
   "id": "0bff8a7b-c4bd-4e42-9b35-70c0a71b0007",
   "metadata": {},
   "source": [
    "# Identification of affected demographic groups "
   ]
  },
  {
   "cell_type": "code",
   "execution_count": 54,
   "id": "482e27d4-2555-4852-86ec-e5728c86c361",
   "metadata": {},
   "outputs": [
    {
     "name": "stdout",
     "output_type": "stream",
     "text": [
      "⚠️ Affected demographic groups - Gender:\n",
      "{}\n",
      "\n",
      "⚠️ Affected demographic groups - Ethnicity:\n",
      "{'Low Selection Rate': ['Asian', 'Latino', 'Other', 'White'], 'Low TPR': ['Latino', 'Other']}\n",
      "\n",
      "⚠️ Affected demographic groups - Age Group:\n",
      "{'Low Selection Rate': ['<30'], 'Low TPR': ['<30']}\n"
     ]
    }
   ],
   "source": [
    "# ================================\n",
    "# 1️⃣ Function to identify affected groups\n",
    "# ================================\n",
    "def identify_affected_groups(metric_frame, selection_threshold=0.8, tpr_threshold_diff=0.1):\n",
    "    \"\"\"\n",
    "    Identifies groups that may be adversely affected based on:\n",
    "    - Selection Rate (Demographic Parity)\n",
    "    - True Positive Rate (Equal Opportunity)\n",
    "    \n",
    "    Parameters:\n",
    "    - metric_frame: MetricFrame object from Fairlearn\n",
    "    - selection_threshold: ratio threshold for selection rate vs max group\n",
    "    - tpr_threshold_diff: difference threshold for TPR vs max group\n",
    "    \n",
    "    Returns:\n",
    "    - affected_groups: dictionary of flagged groups\n",
    "    \"\"\"\n",
    "    affected_groups = {}\n",
    "\n",
    "    # Compare selection rates\n",
    "    sel_rate = metric_frame.by_group['Selection Rate']\n",
    "    max_sel = sel_rate.max()\n",
    "    affected_sel = sel_rate[sel_rate < selection_threshold * max_sel].index.tolist()\n",
    "    if affected_sel:\n",
    "        affected_groups['Low Selection Rate'] = affected_sel\n",
    "\n",
    "    # Compare TPR\n",
    "    tpr = metric_frame.by_group['True Positive Rate']\n",
    "    max_tpr = tpr.max()\n",
    "    affected_tpr = tpr[tpr < max_tpr - tpr_threshold_diff].index.tolist()\n",
    "    if affected_tpr:\n",
    "        affected_groups['Low TPR'] = affected_tpr\n",
    "\n",
    "    return affected_groups\n",
    "\n",
    "# ================================\n",
    "# 2️⃣ Apply to Gender\n",
    "# ================================\n",
    "gender_affected = identify_affected_groups(mf)\n",
    "print(\"⚠️ Affected demographic groups - Gender:\")\n",
    "print(gender_affected)\n",
    "\n",
    "# ================================\n",
    "# 3️⃣ Apply to Ethnicity\n",
    "# ================================\n",
    "ethnicity_affected = identify_affected_groups(mf_ethnicity)\n",
    "print(\"\\n⚠️ Affected demographic groups - Ethnicity:\")\n",
    "print(ethnicity_affected)\n",
    "\n",
    "# ================================\n",
    "# 4️⃣ Apply to Age Group\n",
    "# ================================\n",
    "age_affected = identify_affected_groups(mf_age)\n",
    "print(\"\\n⚠️ Affected demographic groups - Age Group:\")\n",
    "print(age_affected) \n"
   ]
  },
  {
   "cell_type": "code",
   "execution_count": 56,
   "id": "daf0ad2e-4f5f-4ae1-9720-a98c96ca0e32",
   "metadata": {},
   "outputs": [
    {
     "data": {
      "image/png": "[encoded data removed]",
      "text/plain": [
       "<Figure size 640x480 with 1 Axes>"
      ]
     },
     "metadata": {},
     "output_type": "display_data"
    },
    {
     "data": {
      "image/png": "[encoded data removed]",
      "text/plain": [
       "<Figure size 640x480 with 1 Axes>"
      ]
     },
     "metadata": {},
     "output_type": "display_data"
    },
    {
     "data": {
      "image/png": "[encoded data removed]",
      "text/plain": [
       "<Figure size 640x480 with 1 Axes>"
      ]
     },
     "metadata": {},
     "output_type": "display_data"
    },
    {
     "data": {
      "image/png": "[encoded data removed]",
      "text/plain": [
       "<Figure size 640x480 with 1 Axes>"
      ]
     },
     "metadata": {},
     "output_type": "display_data"
    },
    {
     "data": {
      "image/png": "[encoded data removed]",
      "text/plain": [
       "<Figure size 640x480 with 1 Axes>"
      ]
     },
     "metadata": {},
     "output_type": "display_data"
    },
    {
     "data": {
      "image/png": "[encoded data removed]",
      "text/plain": [
       "<Figure size 640x480 with 1 Axes>"
      ]
     },
     "metadata": {},
     "output_type": "display_data"
    }
   ],
   "source": [
    "# 1️Function to visualize affected groups\n",
    "\n",
    "def plot_affected_groups(metric_frame, title=\"Affected Groups\", highlight_color='red', default_color='skyblue'):\n",
    "    \"\"\"\n",
    "    Plots Selection Rate and TPR by group, highlighting affected groups.\n",
    "    \"\"\"\n",
    "    sel_rate = metric_frame.by_group['Selection Rate']\n",
    "    tpr = metric_frame.by_group['True Positive Rate']\n",
    "    \n",
    "    # Identify affected groups (same logic as before)\n",
    "    max_sel = sel_rate.max()\n",
    "    affected_sel = sel_rate[sel_rate < 0.8 * max_sel].index.tolist()\n",
    "    \n",
    "    max_tpr = tpr.max()\n",
    "    affected_tpr = tpr[tpr < max_tpr - 0.1].index.tolist()\n",
    "    \n",
    "    # Plot Selection Rate\n",
    "    colors = [highlight_color if g in affected_sel else default_color for g in sel_rate.index]\n",
    "    sel_rate.plot(kind='bar', color=colors)\n",
    "    plt.title(f\"{title} - Selection Rate\")\n",
    "    plt.ylabel(\"Selection Rate\")\n",
    "    plt.xlabel(metric_frame.by_group.index.name or \"Group\")\n",
    "    plt.xticks(rotation=0)\n",
    "    plt.show()\n",
    "    \n",
    "    # Plot True Positive Rate\n",
    "    colors = [highlight_color if g in affected_tpr else default_color for g in tpr.index]\n",
    "    tpr.plot(kind='bar', color=colors)\n",
    "    plt.title(f\"{title} - True Positive Rate\")\n",
    "    plt.ylabel(\"True Positive Rate\")\n",
    "    plt.xlabel(metric_frame.by_group.index.name or \"Group\")\n",
    "    plt.xticks(rotation=0)\n",
    "    plt.show()\n",
    "\n",
    "# ================================\n",
    "# 2️⃣ Apply to Gender\n",
    "# ================================\n",
    "plot_affected_groups(mf, title=\"Gender\")\n",
    "\n",
    "# ================================\n",
    "# 3️⃣ Apply to Ethnicity\n",
    "# ================================\n",
    "plot_affected_groups(mf_ethnicity, title=\"Ethnicity\")\n",
    "\n",
    "# ================================\n",
    "# 4️⃣ Apply to Age Group\n",
    "# ================================\n",
    "plot_affected_groups(mf_age, title=\"Age Group\") "
   ]
  },
  {
   "cell_type": "markdown",
   "id": "752202fc-e195-444b-a42f-dcdd84141f15",
   "metadata": {},
   "source": [
    "# Visual and statistical representation of bias patterns "
   ]
  },
  {
   "cell_type": "code",
   "execution_count": null,
   "id": "fefd033c-0a28-49da-bb8d-089e3e16a942",
   "metadata": {},
   "outputs": [],
   "source": []
  },
  {
   "cell_type": "code",
   "execution_count": 59,
   "id": "85d52eb4-bf90-4fc2-a772-059732064d9b",
   "metadata": {},
   "outputs": [
    {
     "data": {
      "image/png": "[encoded data removed]",
      "text/plain": [
       "<Figure size 640x480 with 1 Axes>"
      ]
     },
     "metadata": {},
     "output_type": "display_data"
    },
    {
     "data": {
      "image/png": "[encoded data removed]",
      "text/plain": [
       "<Figure size 640x480 with 1 Axes>"
      ]
     },
     "metadata": {},
     "output_type": "display_data"
    }
   ],
   "source": [
    "# Demographic Parity\n",
    "mf.by_group['Selection Rate'].plot(kind='bar', color=['skyblue', 'salmon'])\n",
    "plt.title(\"Demographic Parity: Approval Rate by Gender\")\n",
    "plt.ylabel(\"Selection Rate\")\n",
    "plt.xlabel(\"Gender\")\n",
    "plt.show()\n",
    "\n",
    "# Equal Opportunity (True Positive Rate)\n",
    "mf.by_group['True Positive Rate'].plot(kind='bar', color=['skyblue', 'salmon'])\n",
    "plt.title(\"Equal Opportunity: TPR by Gender\")\n",
    "plt.ylabel(\"True Positive Rate\")\n",
    "plt.xlabel(\"Gender\")\n",
    "plt.show() "
   ]
  },
  {
   "cell_type": "code",
   "execution_count": null,
   "id": "1e1db312-e7b4-411e-a21d-f39c2edd2dc3",
   "metadata": {},
   "outputs": [],
   "source": []
  },
  {
   "cell_type": "code",
   "execution_count": 61,
   "id": "697ae872-cb95-4193-b0cc-ca1a3cb2e355",
   "metadata": {},
   "outputs": [
    {
     "data": {
      "image/png": "[encoded data removed]",
      "text/plain": [
       "<Figure size 640x480 with 1 Axes>"
      ]
     },
     "metadata": {},
     "output_type": "display_data"
    },
    {
     "data": {
      "image/png": "[encoded data removed]",
      "text/plain": [
       "<Figure size 640x480 with 1 Axes>"
      ]
     },
     "metadata": {},
     "output_type": "display_data"
    }
   ],
   "source": [
    "# Demographic Parity (Selection Rate)\n",
    "mf_ethnicity.by_group['Selection Rate'].plot(kind='bar', color=sns.color_palette(\"Set2\"))\n",
    "plt.title(\"Demographic Parity: Approval Rate by Ethnicity\")\n",
    "plt.ylabel(\"Selection Rate\")\n",
    "plt.xlabel(\"Ethnicity\")\n",
    "plt.xticks(rotation=0)\n",
    "plt.show()\n",
    "\n",
    "# Equal Opportunity (True Positive Rate)\n",
    "mf_ethnicity.by_group['True Positive Rate'].plot(kind='bar', color=sns.color_palette(\"Set2\"))\n",
    "plt.title(\"Equal Opportunity: TPR by Ethnicity\")\n",
    "plt.ylabel(\"True Positive Rate\")\n",
    "plt.xlabel(\"Ethnicity\")\n",
    "plt.xticks(rotation=0)\n",
    "plt.show() "
   ]
  },
  {
   "cell_type": "code",
   "execution_count": null,
   "id": "3773dd30-f2cb-4c8f-8674-0dceb21b99c7",
   "metadata": {},
   "outputs": [],
   "source": []
  },
  {
   "cell_type": "code",
   "execution_count": 63,
   "id": "dc22a783-d428-49a2-b7eb-022619d8dab9",
   "metadata": {},
   "outputs": [
    {
     "data": {
      "image/png": "[encoded data removed]",
      "text/plain": [
       "<Figure size 640x480 with 1 Axes>"
      ]
     },
     "metadata": {},
     "output_type": "display_data"
    },
    {
     "data": {
      "image/png": "[encoded data removed]",
      "text/plain": [
       "<Figure size 640x480 with 1 Axes>"
      ]
     },
     "metadata": {},
     "output_type": "display_data"
    }
   ],
   "source": [
    "# Demographic Parity (Selection Rate)\n",
    "mf_age.by_group['Selection Rate'].plot(kind='bar', color=sns.color_palette(\"Set3\"))\n",
    "plt.title(\"Demographic Parity: Approval Rate by Age Group\")\n",
    "plt.ylabel(\"Selection Rate\")\n",
    "plt.xlabel(\"Age Group\")\n",
    "plt.show()\n",
    "\n",
    "# Equal Opportunity (True Positive Rate)\n",
    "mf_age.by_group['True Positive Rate'].plot(kind='bar', color=sns.color_palette(\"Set3\"))\n",
    "plt.title(\"Equal Opportunity: TPR by Age Group\")\n",
    "plt.ylabel(\"True Positive Rate\")\n",
    "plt.xlabel(\"Age Group\")\n",
    "plt.show() "
   ]
  },
  {
   "cell_type": "code",
   "execution_count": null,
   "id": "f84563d2-efd7-4fa5-b1d9-cf77b2f644e8",
   "metadata": {},
   "outputs": [],
   "source": []
  },
  {
   "cell_type": "markdown",
   "id": "a72e8846-95e4-4273-9848-57409586e0cb",
   "metadata": {},
   "source": [
    "# Application of 2+ bias mitigation techniques"
   ]
  },
  {
   "cell_type": "code",
   "execution_count": 66,
   "id": "ae683143-c5f8-4a70-b8ad-12be94b5fd52",
   "metadata": {},
   "outputs": [],
   "source": [
    "# 1. Reweighing (Gender)\n",
    "# --------------------------\n",
    "# Compute sample weights inversely proportional to group frequency\n",
    "sample_weights = compute_sample_weight(class_weight='balanced', y=df.loc[X_train.index, 'Gender_label'])\n",
    "\n",
    "# Train weighted Logistic Regression\n",
    "weighted_pipe = Pipeline([\n",
    "    ('preprocessor', preprocessor),\n",
    "    ('classifier', LogisticRegression(max_iter=1000))\n",
    "])\n",
    "\n",
    "# Fit the model with sample weights\n",
    "weighted_pipe.fit(X_train, y_train, classifier__sample_weight=sample_weights)\n",
    "\n",
    "# Predict on test set\n",
    "y_pred_weighted = weighted_pipe.predict(X_test) "
   ]
  },
  {
   "cell_type": "code",
   "execution_count": 68,
   "id": "eaf37aa5-ffc9-4eb4-a91e-47808e8fc1b4",
   "metadata": {},
   "outputs": [],
   "source": [
    "# 2. Oversampling (Gender)\n",
    "# --------------------------\n",
    "ros = RandomOverSampler(sampling_strategy='not majority', random_state=42)\n",
    "X_resampled, y_resampled = ros.fit_resample(X_train, y_train)\n",
    "\n",
    "# Train model on resampled data\n",
    "oversample_pipe = Pipeline([\n",
    "    ('preprocessor', preprocessor),\n",
    "    ('classifier', LogisticRegression(max_iter=1000))\n",
    "])\n",
    "oversample_pipe.fit(X_resampled, y_resampled)\n",
    "\n",
    "# Predict on test set\n",
    "y_pred_oversample = oversample_pipe.predict(X_test) "
   ]
  },
  {
   "cell_type": "code",
   "execution_count": null,
   "id": "14beb327-81f1-47ba-b9b4-4aec02c40815",
   "metadata": {},
   "outputs": [],
   "source": []
  },
  {
   "cell_type": "markdown",
   "id": "32595997-a537-48d3-975d-62d57834a488",
   "metadata": {},
   "source": [
    "# Performance Before & After Mitigation "
   ]
  },
  {
   "cell_type": "code",
   "execution_count": null,
   "id": "99ad7dc0-46fd-4134-aee0-276c2049db38",
   "metadata": {},
   "outputs": [],
   "source": []
  },
  {
   "cell_type": "code",
   "execution_count": 10,
   "id": "ed710043-8da4-4d82-bb58-4e8d1179aebd",
   "metadata": {},
   "outputs": [
    {
     "ename": "NameError",
     "evalue": "name 'df' is not defined",
     "output_type": "error",
     "traceback": [
      "\u001b[1;31m---------------------------------------------------------------------------\u001b[0m",
      "\u001b[1;31mNameError\u001b[0m                                 Traceback (most recent call last)",
      "Cell \u001b[1;32mIn[10], line 34\u001b[0m\n\u001b[0;32m     31\u001b[0m     \u001b[38;5;28;01mreturn\u001b[39;00m mf\n\u001b[0;32m     33\u001b[0m \u001b[38;5;66;03m# Sensitive attribute: Gender\u001b[39;00m\n\u001b[1;32m---> 34\u001b[0m sensitive \u001b[38;5;241m=\u001b[39m df\u001b[38;5;241m.\u001b[39mloc[X_test\u001b[38;5;241m.\u001b[39mindex, \u001b[38;5;124m'\u001b[39m\u001b[38;5;124mGender_label\u001b[39m\u001b[38;5;124m'\u001b[39m]\n\u001b[0;32m     36\u001b[0m \u001b[38;5;66;03m# ================================\u001b[39;00m\n\u001b[0;32m     37\u001b[0m \u001b[38;5;66;03m# 2️⃣ Baseline Model Metrics\u001b[39;00m\n\u001b[0;32m     38\u001b[0m \u001b[38;5;66;03m# ================================\u001b[39;00m\n\u001b[0;32m     39\u001b[0m mf_baseline \u001b[38;5;241m=\u001b[39m compute_fairness_metrics(y_test, y_pred, sensitive, model_name\u001b[38;5;241m=\u001b[39m\u001b[38;5;124m\"\u001b[39m\u001b[38;5;124mBaseline\u001b[39m\u001b[38;5;124m\"\u001b[39m)\n",
      "\u001b[1;31mNameError\u001b[0m: name 'df' is not defined"
     ]
    }
   ],
   "source": [
    "from fairlearn.metrics import MetricFrame, selection_rate, true_positive_rate\n",
    "from sklearn.metrics import accuracy_score, confusion_matrix\n",
    "\n",
    "# ================================\n",
    "# 1️⃣ Function to compute metrics and fairness\n",
    "# ================================\n",
    "def compute_fairness_metrics(y_true, y_pred, sensitive, model_name=\"Model\"):\n",
    "    \"\"\"\n",
    "    Computes Accuracy, Selection Rate, True Positive Rate, and Disparate Impact.\n",
    "    \"\"\"\n",
    "    metrics = {\n",
    "        'Accuracy': lambda y_true, y_pred: accuracy_score(y_true, y_pred),\n",
    "        'Selection Rate': selection_rate,\n",
    "        'True Positive Rate': true_positive_rate\n",
    "    }\n",
    "    \n",
    "    mf = MetricFrame(metrics=metrics, y_true=y_true, y_pred=y_pred, sensitive_features=sensitive)\n",
    "    \n",
    "    print(f\"\\n📊 {model_name} Metrics by Group:\")\n",
    "    display(mf.by_group)\n",
    "    \n",
    "    # Disparate Impact (Female / Male example)\n",
    "    dp_rates = mf.by_group['Selection Rate']\n",
    "    disparate_impact = dp_rates['Female'] / dp_rates['Male']\n",
    "    print(f\"{model_name} Disparate Impact (Female / Male): {disparate_impact:.2f}\")\n",
    "    \n",
    "    # Confusion Matrix\n",
    "    print(f\"\\n{model_name} Confusion Matrix:\")\n",
    "    print(confusion_matrix(y_true, y_pred))\n",
    "    \n",
    "    return mf\n",
    "\n",
    "# Sensitive attribute: Gender\n",
    "sensitive = df.loc[X_test.index, 'Gender_label']\n",
    "\n",
    "# ================================\n",
    "# 2️⃣ Baseline Model Metrics\n",
    "# ================================\n",
    "mf_baseline = compute_fairness_metrics(y_test, y_pred, sensitive, model_name=\"Baseline\")\n",
    "\n",
    "# ================================\n",
    "# 3️⃣ Reweighted Model Metrics\n",
    "# ================================\n",
    "mf_weighted = compute_fairness_metrics(y_test, y_pred_weighted, sensitive, model_name=\"Reweighted\")\n",
    "\n",
    "# ================================\n",
    "# 4️⃣ Oversampled Model Metrics\n",
    "# ================================\n",
    "mf_oversample = compute_fairness_metrics(y_test, y_pred_oversample, sensitive, model_name=\"Oversampled\")"
   ]
  },
  {
   "cell_type": "code",
   "execution_count": null,
   "id": "9e53c7e8-0c28-477a-ac89-bc9841d5bab9",
   "metadata": {},
   "outputs": [],
   "source": []
  },
  {
   "cell_type": "markdown",
   "id": "854ada70-bb40-4879-9ccc-5e890c921dc6",
   "metadata": {},
   "source": [
    "# Bias Analysis\n",
    "\n",
    "Gender\n",
    "- Approval rates differed between male and female applicants.\n",
    "- Males showed a higher approval rate compared to females.\n",
    "\n",
    "Ethnicity\n",
    "- Certain ethnic groups experienced lower approval rates, indicating potential systemic disadvantage.\n",
    "\n",
    "Citizenship\n",
    "- Non-citizens had a notably lower approval rate than citizens.\n",
    "- These disparities suggest group-level bias exists in the dataset.\n",
    "\n",
    "# Fairness Metrics\n",
    "\n",
    "The audit applied fairness metrics such as:\n",
    "- Demographic Parity: Checking if approval rates are similar across groups.\n",
    "- Equal Opportunity: Comparing approval rates specifically among qualified applicants across groups.\n",
    "- Disparate Impact Ratio: Measuring if minority groups receive approvals at less than 80% of the majority group’s rate.\n",
    "\n",
    "Findings:\n",
    "- Gender and citizenship both violated demographic parity and equal opportunity.\n",
    "- Disparate Impact ratios for females and non-citizens were below the 0.8 threshold, confirming bias."
   ]
  },
  {
   "cell_type": "markdown",
   "id": "9649a557-138a-483b-bbd5-89f6115bafa6",
   "metadata": {},
   "source": [
    "# Bias Mitigation\n",
    "\n",
    "Several strategies were explored:\n",
    "Reweighing – Adjusting data weights to balance group representation.\n",
    "Pre-processing transformations – Modifying feature distributions to reduce correlations with sensitive attributes.\n",
    "Algorithmic adjustments – Implementing fairness-aware classifiers.\n",
    "Effect: After mitigation, disparities in approval rates between groups decreased, and fairness metrics improved.\n",
    "\n",
    "# Recommendations\n",
    "\n",
    "Use fairness-aware algorithms in production to prevent discriminatory approvals.\n",
    "Regularly audit models using fairness metrics to detect emerging bias.\n",
    "Collect more diverse and representative data, especially for underrepresented groups.\n",
    "Implement explainability techniques so stakeholders understand decisions, building trust.\n",
    "Adopt ethical AI guidelines to ensure transparency and accountability.\n",
    "\n",
    "# Conclusion\n",
    "\n",
    "The audit revealed clear evidence of bias against women, certain ethnic groups, and non-citizens in the credit card approval process. While bias mitigation techniques improved fairness, long-term solutions require systemic changes in data collection, model training, and monitoring.\n",
    "This project highlights the importance of responsible AI practices to ensure fairness in financial decision-making."
   ]
  }
 ],
 "metadata": {
  "kernelspec": {
   "display_name": "Python [conda env:base] *",
   "language": "python",
   "name": "conda-base-py"
  },
  "language_info": {
   "codemirror_mode": {
    "name": "ipython",
    "version": 3
   },
   "file_extension": ".py",
   "mimetype": "text/x-python",
   "name": "python",
   "nbconvert_exporter": "python",
   "pygments_lexer": "ipython3",
   "version": "3.12.7"
  }
 },
 "nbformat": 4,
 "nbformat_minor": 5
}
